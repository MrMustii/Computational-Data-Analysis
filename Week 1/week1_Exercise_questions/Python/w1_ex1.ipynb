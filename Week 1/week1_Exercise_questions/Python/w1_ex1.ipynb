{
 "cells": [
  {
   "cell_type": "markdown",
   "metadata": {},
   "source": [
    "## Imports"
   ]
  },
  {
   "cell_type": "code",
   "execution_count": 35,
   "metadata": {},
   "outputs": [],
   "source": [
    "# To embed plots in the notebooks\n",
    "%matplotlib inline\n",
    "import matplotlib.pyplot as plt\n",
    "\n",
    "import numpy as np # numpy library\n",
    "import scipy . linalg as lng # linear algebra from scipy library\n",
    "from scipy . spatial import distance # load distance function\n",
    "from sklearn import preprocessing as preproc # load preprocessing function\n",
    "\n",
    "# seaborn can be used to \"prettify\" default matplotlib plots by importing and setting as default\n",
    "import seaborn as sns\n",
    "sns.set() # Set searborn as default"
   ]
  },
  {
   "cell_type": "markdown",
   "metadata": {},
   "source": [
    "## Load dataset"
   ]
  },
  {
   "cell_type": "code",
   "execution_count": 36,
   "metadata": {},
   "outputs": [
    {
     "name": "stdout",
     "output_type": "stream",
     "text": [
      "[[ 0.79959404  1.06428249  1.29562034 ... -0.0544375   0.41805721\n",
      "  -0.37056863]\n",
      " [-0.03952235 -0.93747437 -1.08095529 ... -0.82936104 -1.43496249\n",
      "  -1.93628504]\n",
      " [ 1.79127703  1.06428249  0.93347548 ... -0.0544375   0.0600875\n",
      "  -0.54453712]\n",
      " ...\n",
      " [ 0.87587734  1.06428249 -0.33403152 ... -0.23266992 -0.98453322\n",
      "   0.32530533]\n",
      " [-0.95492204 -0.93747437  0.82030521 ...  0.55775209  0.93510331\n",
      "  -0.54453712]\n",
      " [-0.95492204 -0.93747437 -1.53363636 ... -0.82936104 -0.08865179\n",
      "   0.0643526 ]]\n"
     ]
    }
   ],
   "source": [
    "diabetPath = './DiabetesDataNormalized.txt'\n",
    "T = np.loadtxt(diabetPath, delimiter = ' ', skiprows = 1)\n",
    "y = T[:, 10]\n",
    "X = T[:,:10]\n",
    "\n",
    "# Get number of observations (n) and number of independent variables (p)\n",
    "[n, p] = np.shape(X)\n",
    "\n",
    "M = X\n",
    "print(M)"
   ]
  },
  {
   "cell_type": "markdown",
   "metadata": {},
   "source": [
    "## 1 Solve the Ordinary Least Squares (OLS) computationally (for the diabetes data set):\n",
    "\n",
    "> (a) What is the difference between using a brute force implementation(analytical) for an OLS solver and a numerically ’smarter’ implementation? Compute the ordinary least squares solution to the diabetes data set for both options and look at the relative difference. Use for example lng.lstsq to invert the matrix or to solve the linear system of equation."
   ]
  },
  {
   "cell_type": "code",
   "execution_count": 37,
   "metadata": {},
   "outputs": [],
   "source": [
    "def ols_numerical(X, y):\n",
    "    # Call lstsq from lng to get betas\n",
    "    betas = lng.lstsq(X, y)\n",
    "    return betas\n",
    "\n",
    "\n",
    "def ols_analytical(X, y):\n",
    "    # Implement the analytical closed form way of calculating the betas \n",
    "    x_t = np.transpose(X)\n",
    "    return np.dot(lng.inv(np.dot(x_t, X)), np.dot(x_t, y))\n"
   ]
  },
  {
   "cell_type": "code",
   "execution_count": 38,
   "metadata": {},
   "outputs": [
    {
     "name": "stdout",
     "output_type": "stream",
     "text": [
      "The list of betas: \n",
      "[-0.00618293 -0.14813008  0.32110005  0.20036692 -0.48931352  0.29447365\n",
      "  0.06241272  0.10936897  0.46404908  0.04177187]\n"
     ]
    }
   ],
   "source": [
    "# numerical solution\n",
    "beta_num, _, _, _ = ols_numerical(M, y)\n",
    "print(f'The list of betas: \\n{beta_num}')"
   ]
  },
  {
   "cell_type": "code",
   "execution_count": 39,
   "metadata": {},
   "outputs": [
    {
     "name": "stdout",
     "output_type": "stream",
     "text": [
      "The list of betas: \n",
      "[-0.00618293 -0.14813008  0.32110005  0.20036692 -0.48931352  0.29447365\n",
      "  0.06241272  0.10936897  0.46404908  0.04177187]\n"
     ]
    }
   ],
   "source": [
    "# analytical solution\n",
    "beta_ana = ols_analytical(M,y)\n",
    "print(f'The list of betas: \\n{beta_ana}')"
   ]
  },
  {
   "cell_type": "code",
   "execution_count": 40,
   "metadata": {},
   "outputs": [
    {
     "name": "stdout",
     "output_type": "stream",
     "text": [
      "The norm of the difference between betas: \n",
      "8.800178160669115e-15\n"
     ]
    }
   ],
   "source": [
    "# difference in solutions\n",
    "norm = np.linalg.norm(beta_ana-beta_num)\n",
    "print(f'The norm of the difference between betas: \\n{norm}')"
   ]
  },
  {
   "cell_type": "markdown",
   "metadata": {},
   "source": [
    "Is the difference significant? \n",
    "\n",
    "What can we conclude relating to numerical vs analytical solutions?"
   ]
  },
  {
   "cell_type": "markdown",
   "metadata": {},
   "source": [
    "> (b) How could you include an intercept term in Python? This means using the model: $y = β_0 +xβ_1 +...+x_pβ_p +ε $ rather than: $ y=x_1β_1 +...+x_pβ_p +ε. $"
   ]
  },
  {
   "cell_type": "code",
   "execution_count": 41,
   "metadata": {},
   "outputs": [
    {
     "name": "stdout",
     "output_type": "stream",
     "text": [
      "[-6.76000240e-16 -6.18292545e-03 -1.48130075e-01  3.21100050e-01\n",
      "  2.00366920e-01 -4.89313521e-01  2.94473646e-01  6.24127211e-02\n",
      "  1.09368973e-01  4.64049083e-01  4.17718663e-02]\n",
      "(array([-1.14518934e-15, -6.18292545e-03, -1.48130075e-01,  3.21100050e-01,\n",
      "        2.00366920e-01, -4.89313521e-01,  2.94473646e-01,  6.24127211e-02,\n",
      "        1.09368973e-01,  4.64049083e-01,  4.17718663e-02]), np.float64(212.6729458008258), 11, array([42.12691468, 25.65371275, 23.06146397, 21.02379604, 20.52717939,\n",
      "       17.08865102, 16.30331961, 15.38263478, 13.82945328,  5.87700015,\n",
      "        1.94300845]))\n"
     ]
    }
   ],
   "source": [
    "# Include offset / intercept\n",
    "# add one to the start of the matrix\n",
    "M_with_ones = np.column_stack((np.ones(n), M))\n",
    "print(ols_analytical(M_with_ones,y))\n",
    "print(ols_numerical(M_with_ones, y))"
   ]
  },
  {
   "cell_type": "markdown",
   "metadata": {},
   "source": [
    "What is the value of the intercept coefficient?\n",
    "\n",
    "Can you explain why?"
   ]
  },
  {
   "cell_type": "markdown",
   "metadata": {},
   "source": [
    "> (c) Calculate the mean squared error $MSE = 1/n \\sum^n_{i=1} (y_i−x_iβ)^2$."
   ]
  },
  {
   "cell_type": "code",
   "execution_count": 42,
   "metadata": {},
   "outputs": [
    {
     "data": {
      "text/plain": [
       "(np.float64(0.4811605108615975),\n",
       " array([-0.71493747,  0.08987803, -0.46544807,  0.50699207,  0.08480331,\n",
       "        -0.12130691,  0.83157549, -0.72450452, -0.63311707,  1.25063715,\n",
       "         0.05091493, -0.33856618,  0.82926902,  0.26362225,  0.19355657,\n",
       "        -0.0800965 , -0.59353105, -0.50382455, -0.66158103,  0.57051168,\n",
       "        -0.67883749, -0.47735446, -0.58518226, -0.09666582,  0.24012825,\n",
       "         0.70408495,  0.51718421, -1.2205204 ,  0.02524925,  1.27403077,\n",
       "        -0.3854457 , -0.13588467,  1.03117198, -0.33495059, -0.17346817,\n",
       "         0.1859623 ,  0.74038953,  1.53222178,  0.14466837, -0.60877864,\n",
       "        -0.69371335, -0.24845661, -1.09773154,  0.18380671,  0.49189511,\n",
       "        -0.93678507,  0.61480288,  0.42162548,  0.02410312, -0.62095358,\n",
       "        -0.03807103,  0.71917037, -0.97525248, -0.6968906 ,  0.55632739,\n",
       "         0.71691111, -2.02128283, -0.55921693,  0.85502752,  0.45946178,\n",
       "        -0.69053633, -0.47574074, -0.11842   ,  0.37974851, -0.55511872,\n",
       "        -0.34967785,  0.01318517, -0.35465634,  0.5857918 ,  0.72640085,\n",
       "        -0.33608978,  0.43180905,  0.77424317, -0.1753301 , -0.85404298,\n",
       "        -1.1123228 , -0.27458996,  1.59473988,  1.10487782,  0.28529291,\n",
       "        -0.41186056, -0.93179033, -0.14621707,  0.75235525,  0.14619237,\n",
       "        -0.32434879,  0.16020736, -0.24700419, -0.50000668,  0.05316325,\n",
       "         0.23426665, -0.3005106 , -1.87564234,  0.45303743, -0.22580118,\n",
       "         0.47938104, -0.7487583 ,  0.8403812 , -0.40826855, -0.72852771,\n",
       "        -0.52162606, -0.06393609,  1.96324579,  0.51984431, -0.74921951,\n",
       "        -0.82009801,  0.79084118, -0.15138235,  0.02410364, -0.81068281,\n",
       "         0.85486521, -0.81537005,  1.20900663,  1.15448833, -0.43105158,\n",
       "         0.51657461,  0.79087882,  0.59433324,  0.1766074 ,  0.63239309,\n",
       "         0.56325998, -0.35594239, -0.5104475 , -1.17764646, -0.62562333,\n",
       "        -0.34860972,  0.53839645,  0.00585837,  0.28942561,  0.74100792,\n",
       "         0.37005981,  1.14351684, -0.07828024,  0.18903782, -0.50194429,\n",
       "         0.42205636,  0.34531554,  0.57759804,  1.05167654,  0.35921432,\n",
       "        -0.48656338,  1.12124811,  0.83738714, -0.75227759, -0.05907235,\n",
       "         0.2455321 , -0.16005246, -1.30575668, -0.23665654, -0.67925129,\n",
       "         1.02354531, -0.73750079,  1.1848122 , -0.65301589,  0.60303876,\n",
       "        -0.16887133, -1.57315525, -0.51913444,  0.13932353, -0.52095177,\n",
       "        -0.37841411, -0.18542202,  0.35840604, -0.85670918,  0.86910065,\n",
       "        -0.23592456,  0.13783762, -0.55368941,  0.55609445, -0.88468493,\n",
       "         0.0052337 , -0.18292122,  0.94983326,  0.04861663, -0.17496249,\n",
       "         0.09208399,  1.02730193,  0.0249034 , -0.24114792, -0.19254496,\n",
       "        -0.94012171, -0.33509575, -0.43876748,  0.34550217,  0.8239158 ,\n",
       "        -1.10764848, -0.78443236,  0.99135173, -0.17640839, -0.48231603,\n",
       "         1.24631856,  0.64794018, -0.00264562, -0.31873499, -0.89796333,\n",
       "        -0.61877554, -0.3470793 , -0.79314185, -0.00670682, -1.13202979,\n",
       "         0.81319801, -0.38994349,  0.41295688,  0.31045745,  1.28079109,\n",
       "        -1.68089696,  0.45826413, -0.13344074, -0.87535039, -1.24335812,\n",
       "         0.85248373, -1.35837269, -1.02967768, -0.64313691, -0.45059488,\n",
       "         0.00914388,  0.31468053,  0.96844375,  1.04270542,  0.51329843,\n",
       "         0.32369098, -0.63326788,  1.27526258,  0.32139221, -0.00326469,\n",
       "        -0.28876561, -0.02476335,  0.03625263,  0.54484544, -0.59749051,\n",
       "         0.69321504, -0.06928479,  1.30654549, -0.68821861,  0.18732048,\n",
       "        -0.68290557, -1.5596202 ,  0.08572763,  0.86049068,  1.0668696 ,\n",
       "         0.5200465 ,  0.75030556, -0.18984237, -0.69863346,  0.6042134 ,\n",
       "         0.3004781 , -0.55343029, -0.41594471,  0.30372561, -0.39119798,\n",
       "         0.51535749, -0.41341329, -1.16317399, -0.6882132 ,  0.72359019,\n",
       "         0.44825067,  1.00587992, -0.54270079, -0.34851677, -1.17336939,\n",
       "        -0.25254538, -0.34804004,  0.57351413,  0.92084431,  0.28162218,\n",
       "        -0.74047819,  0.13111674, -0.30294151,  0.25552203, -0.03838532,\n",
       "         0.12879298, -0.48422258,  0.44429716,  0.63701077, -1.43260214,\n",
       "        -0.8346934 ,  1.21682027, -0.68204863, -0.12257602,  1.07075439,\n",
       "         1.28680958, -0.04934376,  1.17332931,  1.25597389, -0.05106527,\n",
       "         0.39692684, -0.26567022,  0.93853411,  0.01228204, -1.59985689,\n",
       "         1.44403287,  0.5739798 , -0.11498578,  0.27037781, -0.34761572,\n",
       "        -0.8798346 ,  0.15824364, -0.86643281,  0.28748262, -0.52967991,\n",
       "         0.7375626 , -0.79150342, -0.11361338,  0.07034627,  1.69847815,\n",
       "        -0.15148254, -1.06845525,  0.30490776,  0.33632791,  0.03945577,\n",
       "        -1.23058109,  0.09659907,  0.27295583, -0.66054115, -0.36179143,\n",
       "        -0.16957365,  0.28062404,  0.21724032, -0.6958801 , -0.03003891,\n",
       "        -0.90196169, -0.70225985, -0.48397818,  0.4149762 ,  0.50475803,\n",
       "        -0.31411579, -0.33744307,  0.16779326, -1.44061102,  0.40775226,\n",
       "         0.84699384,  1.13085975, -0.27242376, -0.24187042, -0.09512088,\n",
       "         0.12542904,  0.73740792, -1.08330681,  1.1920289 , -0.66506536,\n",
       "         0.58818776,  1.03125834,  0.18979592, -0.57116696,  0.72086762,\n",
       "         0.17770055, -0.49942939, -0.2150236 ,  0.20526369, -0.09160502,\n",
       "        -0.0894706 , -0.19766049,  0.19459003, -0.6201983 ,  1.03352849,\n",
       "        -0.95800207, -0.51460568,  0.24002536,  0.48588729,  1.76633408,\n",
       "         1.09069963,  0.82934412,  1.11165186, -1.38915822,  1.31766016,\n",
       "         0.56583775, -0.273123  , -0.19761743, -0.96641643, -0.22140493,\n",
       "         0.05679737,  0.03382711, -0.51594584,  0.33453214,  0.14495206,\n",
       "         0.47824285, -1.17085703,  0.84839163,  1.04628795, -1.2482811 ,\n",
       "        -1.58911967,  0.38037338, -1.48255117, -0.3391351 , -0.55187276,\n",
       "         1.02444525, -0.4928976 ,  1.42201177, -0.68768115, -0.31349206,\n",
       "         0.29754722,  0.12357305,  0.2531491 , -0.41071373,  0.1869582 ,\n",
       "         1.1327543 , -0.24538818,  0.20350116,  0.91746993,  0.55523778,\n",
       "        -0.15805515,  0.07624939,  0.25450243,  0.30666655,  1.21027104,\n",
       "        -0.03418947,  0.27422576, -0.41699844, -0.19534536,  0.08865394,\n",
       "         0.66242289, -0.18808816,  0.36352905, -0.11131344, -0.43509077,\n",
       "         0.0171707 ,  0.39203441, -1.22538123, -0.19637644, -0.49854309,\n",
       "         0.07573338,  0.26063189,  0.43739356, -0.81243134, -0.78870247,\n",
       "         0.51741985, -0.5525797 , -0.81515701,  0.6741078 , -0.0870132 ,\n",
       "         0.87068753, -0.73334276, -0.58604278,  0.14341756, -1.06485626,\n",
       "        -0.7196991 , -0.05978645, -0.19479803,  0.03819006,  0.13974444,\n",
       "         0.10560044,  0.04608363]),\n",
       " array([ 7.00234650e-01, -1.09040310e+00,  3.21031802e-01,  1.91729125e-01,\n",
       "        -3.07047649e-01, -5.93848560e-01, -1.01490580e+00, -4.31676699e-01,\n",
       "         8.65890892e-02,  7.97103974e-01, -7.14185021e-01, -7.39786966e-01,\n",
       "        -4.80774162e-01,  1.62700680e-01, -6.36313786e-01,  3.24820593e-01,\n",
       "         7.73398422e-01,  3.98322315e-01, -5.35744432e-02, -3.64701618e-01,\n",
       "        -4.12487000e-01, -8.60425598e-01, -5.06142230e-01,  1.30126948e+00,\n",
       "         1.73223342e-01, -5.72491441e-02, -7.13485861e-01,  3.49708779e-01,\n",
       "        -2.99378974e-01,  4.23484029e-01,  8.53732840e-02, -1.07218193e+00,\n",
       "         1.41868085e+00, -5.09918341e-01, -9.56770356e-01, -8.36261042e-01,\n",
       "         7.23641047e-01,  7.44935976e-02,  1.15073471e+00, -1.97176251e-01,\n",
       "         1.74719085e-02, -1.01149537e+00, -8.43923768e-02, -9.63818916e-01,\n",
       "         8.94307388e-01, -3.49109604e-01, -1.23623221e-01, -5.53070403e-01,\n",
       "        -1.02462819e+00,  4.89508660e-01,  7.52536014e-02,  2.26006383e-01,\n",
       "        -2.32814121e-01,  7.25345439e-02, -1.68918496e-01, -1.02995487e+00,\n",
       "         7.22416804e-01, -9.34219274e-01, -6.23274769e-01, -2.27709034e-01,\n",
       "        -4.91587587e-01,  3.70238504e-01, -1.18044602e+00, -6.92792276e-01,\n",
       "        -4.97291734e-01,  4.90631177e-01, -4.08593292e-02, -3.60499134e-01,\n",
       "        -4.83752501e-01, -3.90877338e-01, -1.01466163e+00,  1.09707825e+00,\n",
       "        -1.27407361e-01, -3.58226541e-01, -1.67686447e-02, -3.16256679e-01,\n",
       "         5.06342710e-01, -9.73846759e-01,  1.90525265e-01, -7.92906856e-01,\n",
       "         2.93386980e-01, -3.80047041e-01, -1.15264895e+00, -1.74868000e-03,\n",
       "        -1.27643090e+00,  1.79932522e-01, -1.42015935e+00,  1.17884985e-02,\n",
       "        -9.28572799e-01, -5.86719891e-01, -9.36450778e-01,  4.54435282e-01,\n",
       "         5.24890934e-01, -1.18116425e+00, -5.80153715e-01, -3.51399058e-01,\n",
       "         7.21084143e-01,  8.05248213e-01, -3.71743654e-01, -1.68226597e-01,\n",
       "         2.08582297e-01, -5.86362652e-01, -1.92754310e-02,  7.51061133e-02,\n",
       "         8.12134264e-03, -4.65796671e-01, -1.02605687e+00,  4.58801148e-02,\n",
       "         1.01187253e+00, -1.12014197e-01, -1.47922126e+00, -3.92696557e-01,\n",
       "         8.56838405e-03,  7.24625302e-01,  1.80428274e+00,  4.80487527e-01,\n",
       "         8.02865216e-01,  1.07723887e+00,  1.71887461e-01, -1.14999716e-02,\n",
       "         5.76331333e-02,  6.26609176e-01,  8.71913709e-01,  2.93863495e-01,\n",
       "         2.21780149e-01,  4.63620364e-01, -1.22760923e+00, -5.65357698e-01,\n",
       "        -7.71096863e-01,  7.61936697e-01,  1.21071287e+00, -1.06742023e+00,\n",
       "        -5.07161776e-01, -1.08579213e+00, -1.35383106e-01,  1.13277364e+00,\n",
       "        -1.21612716e+00,  1.08100272e+00,  1.33331956e+00,  1.31235779e+00,\n",
       "         4.38061636e-02,  1.01729243e+00,  2.37503072e-01, -4.42817670e-01,\n",
       "         3.42710487e-01,  1.14067041e+00,  4.95575978e-01,  9.92712920e-01,\n",
       "        -4.91470283e-01,  3.40264841e-01,  7.38826216e-01, -9.43967905e-02,\n",
       "         6.29444702e-01, -3.99394563e-01, -2.10596796e-02,  6.08165609e-01,\n",
       "        -7.59371036e-02, -3.64648529e-01, -8.67450353e-01,  1.07698816e+00,\n",
       "        -9.07480566e-01,  1.02682801e+00, -1.00710603e-01,  5.82579452e-01,\n",
       "        -6.66086977e-02, -9.72142048e-01, -1.20321943e+00,  1.43400943e+00,\n",
       "         9.46850162e-01,  8.82953463e-01, -1.36895645e+00, -8.30575205e-01,\n",
       "         9.03337684e-01, -7.11886723e-01,  1.60259678e-01, -4.18099102e-01,\n",
       "         7.35309740e-02,  9.20273355e-01, -6.81549082e-01,  1.77842146e-01,\n",
       "         3.54679694e-01, -8.08114122e-01,  2.55437174e-01,  8.08207597e-02,\n",
       "         6.40114775e-01,  4.44378392e-01,  5.88130709e-01, -1.10982531e+00,\n",
       "         3.19921240e-02, -4.66323667e-01,  5.67938350e-01, -3.12416663e-01,\n",
       "        -7.90337929e-01, -1.49964923e-01,  4.01230602e-02,  2.27903709e-01,\n",
       "        -6.92359815e-01,  4.93069434e-01, -1.24738104e-01,  3.26074897e-01,\n",
       "        -7.37101406e-01, -1.07755003e+00,  1.56050852e-01,  5.95805268e-01,\n",
       "         3.38895628e-01,  9.91684176e-01,  1.10743605e-01,  7.80276552e-01,\n",
       "         9.12532954e-01,  2.68775731e-01, -3.48332724e-01,  2.92990889e-01,\n",
       "         3.20991859e-03, -6.94643150e-01, -6.79643648e-01,  1.42894401e+00,\n",
       "         9.28837169e-01,  8.97698535e-01, -2.40213470e-01, -8.69754936e-02,\n",
       "        -1.28530202e+00, -1.33772975e-01,  2.01404999e-02, -3.49066370e-01,\n",
       "        -9.71317698e-01,  1.01342949e+00, -9.49819039e-01, -6.08723307e-01,\n",
       "        -4.42806148e-01, -6.88404163e-01,  1.87104983e-01,  9.34960072e-02,\n",
       "         7.96570120e-02, -1.17736278e-01,  1.03025453e+00,  3.17976431e-01,\n",
       "         4.55324360e-01, -1.12516675e+00,  4.99769130e-01,  3.58246937e-01,\n",
       "         1.07369754e+00, -4.27753388e-01, -8.62568092e-01, -6.65089288e-01,\n",
       "        -1.51947774e-01, -6.52435902e-01, -4.08180749e-01, -8.95892656e-01,\n",
       "         1.06950555e+00,  1.20666128e+00,  1.44158422e+00,  1.59207426e+00,\n",
       "         3.70190443e-01,  6.60539035e-01,  1.32415094e+00, -4.37010792e-01,\n",
       "         1.50882965e+00, -6.13480428e-01, -4.70409472e-01, -1.51439320e-01,\n",
       "        -1.21494814e+00, -2.89287357e-01,  1.44828431e+00, -1.38954421e+00,\n",
       "        -3.74153067e-01, -2.73018226e-01, -1.52078218e+00, -1.78729745e-01,\n",
       "         1.19553720e+00, -8.06483613e-01,  5.18042824e-01,  1.58207476e-01,\n",
       "        -5.68882606e-02,  5.15707510e-01,  3.15334951e-01,  8.06238903e-02,\n",
       "         4.80694528e-01, -4.61161251e-01, -5.27722722e-01, -4.49861270e-01,\n",
       "         1.77221000e-01, -7.04725748e-01, -1.63295831e-01, -8.81536335e-01,\n",
       "         1.01219184e-01,  6.52020680e-01, -9.29425042e-01, -7.11854275e-02,\n",
       "        -9.47950390e-01,  5.08532399e-01,  8.89077854e-01,  6.69537904e-01,\n",
       "        -7.68797185e-01,  3.50515310e-01, -9.12336262e-01,  9.02298131e-03,\n",
       "        -9.77169880e-01, -7.04831472e-01, -5.87555035e-01, -3.67074398e-01,\n",
       "         8.56181429e-01, -3.38735112e-01,  7.08563803e-01,  1.01751528e+00,\n",
       "        -3.90103720e-01, -2.13446605e-01, -3.34181538e-01, -4.72123198e-02,\n",
       "        -8.30970507e-01, -1.70900695e-01,  6.71081766e-01,  2.64867134e-01,\n",
       "        -3.78458066e-01,  8.01494478e-01,  2.95203230e-01, -5.45581823e-01,\n",
       "         5.99695989e-01,  2.73939337e-01,  1.36380774e-01,  5.34189917e-01,\n",
       "         5.11089852e-01,  1.71229334e+00,  1.64966781e+00,  8.28541507e-01,\n",
       "         7.51731013e-01,  8.31238141e-01,  6.33133435e-02,  9.33039645e-01,\n",
       "         4.78999977e-01, -6.29996604e-01,  3.44638481e-01, -5.22937977e-01,\n",
       "         1.80131106e+00,  3.95795099e-01, -9.44318234e-01, -8.53555858e-01,\n",
       "         1.25844783e+00,  2.90323263e-01, -3.89536944e-01, -7.60328009e-02,\n",
       "         2.40246886e-01,  4.06829543e-01,  1.45727599e-01,  6.35530157e-02,\n",
       "        -9.99745011e-02, -3.48059508e-01,  3.29070426e-01, -6.16873982e-01,\n",
       "        -2.58880544e-01, -7.40292563e-01,  1.26813157e+00, -8.54749965e-01,\n",
       "        -1.16917241e+00,  6.06989751e-02,  5.21301508e-01, -2.37093187e-01,\n",
       "        -7.58317653e-01,  6.53266009e-01, -1.29184218e+00,  2.94378395e-01,\n",
       "         5.80872478e-01, -4.41935226e-01,  1.07877407e+00,  1.68120271e-01,\n",
       "         1.07456383e-01,  1.32883436e-01,  1.32207052e+00,  1.36330706e+00,\n",
       "         5.88515940e-01,  4.14243643e-01, -1.21297859e+00,  5.48151969e-01,\n",
       "        -5.36464617e-01, -1.28722080e-01, -3.02339679e-01,  3.63163143e-01,\n",
       "         7.67013848e-01,  2.26498583e-01,  1.58315711e-01, -2.06241065e-01,\n",
       "         2.90253652e-01, -1.00472943e+00,  1.22139279e+00, -4.92762480e-01,\n",
       "        -5.26480391e-01, -1.57096570e-01, -5.46541510e-01, -7.88147312e-01,\n",
       "         1.41153168e-01, -9.98345308e-01,  1.32213950e+00, -1.27975427e+00,\n",
       "        -6.95906313e-01, -6.67639417e-01,  1.38084314e+00,  2.40476856e-01,\n",
       "        -1.17021996e+00,  3.91449266e-01,  2.48219696e-01,  4.80738389e-01,\n",
       "         4.54664631e-01, -8.43290248e-01, -4.86923686e-02,  1.28707748e+00,\n",
       "         6.16957209e-01,  1.70576157e+00, -1.31366487e+00,  2.59610826e-01,\n",
       "         6.73553678e-01,  2.85783611e-01,  7.52123359e-02, -2.11848350e-02,\n",
       "         1.04861615e+00, -3.96300508e-01,  1.60961043e-01,  2.66467433e-01,\n",
       "         9.68225397e-01, -3.45707518e-02, -6.87406530e-01, -9.30036390e-01,\n",
       "        -1.55292920e-01,  5.15917377e-01,  6.11553956e-01,  1.94477968e-02,\n",
       "         2.55145838e-01, -5.19151324e-01,  1.35765172e-01, -2.89138827e-01,\n",
       "         1.37363333e+00, -6.67056308e-01, -4.70307292e-01, -3.83924425e-01,\n",
       "         8.56709568e-01, -1.18285667e+00, -2.72923794e-01, -4.23510776e-01,\n",
       "        -1.29096496e+00,  5.30321546e-01, -6.62546113e-01, -4.00902820e-01,\n",
       "         7.74719592e-01, -1.28009292e+00]))"
      ]
     },
     "execution_count": 42,
     "metadata": {},
     "output_type": "execute_result"
    }
   ],
   "source": [
    "# Calculate the estimated y values and use these to calculate the MSE.\n",
    "def compute_mse(X,beta):\n",
    "    the_sum =0\n",
    "    for i in range(X.shape[0]):\n",
    "        the_sum += (y[i] - np.dot(X[i], beta))**2\n",
    "    y_hat = np.dot(X, beta)\n",
    "    return the_sum / X.shape[0] ,y - y_hat, y_hat\n",
    "\n",
    "compute_mse(M_with_ones, ols_analytical(M_with_ones,y))\n",
    "    "
   ]
  },
  {
   "cell_type": "code",
   "execution_count": 43,
   "metadata": {},
   "outputs": [
    {
     "name": "stdout",
     "output_type": "stream",
     "text": [
      "mse from the analytical solution: 0.4811605108615973\n"
     ]
    }
   ],
   "source": [
    "mse_ana, res_ana, yhat_ana = compute_mse(M,beta_ana)\n",
    "\n",
    "print(f'mse from the analytical solution: {mse_ana}')"
   ]
  },
  {
   "cell_type": "markdown",
   "metadata": {},
   "source": [
    "What happens to the MSE if we change some of the betas?\n",
    "\n",
    "Is that what you expected?"
   ]
  },
  {
   "cell_type": "code",
   "execution_count": null,
   "metadata": {},
   "outputs": [
    {
     "name": "stdout",
     "output_type": "stream",
     "text": [
      "mse from the changed betas: 0.5676790520132549\n"
     ]
    }
   ],
   "source": [
    "beta_new = beta_ana\n",
    "beta_new[5] = 0\n",
    "\n",
    "mse_new, res_new, yhat_new = compute_mse(M,beta_new)\n",
    "\n",
    "print(f'mse from the changed betas: {mse_new}')"
   ]
  },
  {
   "cell_type": "markdown",
   "metadata": {},
   "source": [
    "> (d) Calculate the residual sum of squares $RSS = ∥{\\bf y} − Xβ∥_2^2$ and the total sum of squares $T SS = ∥{\\bf y} − y ̄∥_2^2$, where $y$ is the estimated mean of ${\\bf y}$. Report on the $R^2$ measure, that is, the proportion of variance in the sample set explained by the\n",
    "  model: $R^2 = 1 − \\frac{RSS}{TSS}$"
   ]
  },
  {
   "cell_type": "code",
   "execution_count": 45,
   "metadata": {},
   "outputs": [
    {
     "name": "stdout",
     "output_type": "stream",
     "text": [
      "RSS from the analytical solution: 212.672945800826\n",
      "TSS from the analytical solution: 441.0000000000005\n",
      "R2 from the analytical solution: 0.5177484222203498\n"
     ]
    }
   ],
   "source": [
    "RSS = 0\n",
    "for i in range(M.shape[0]):\n",
    "    RSS += (y[i] - yhat_ana[i])**2\n",
    "print(f'RSS from the analytical solution: {RSS}')\n",
    "TSS = 0\n",
    "for i in range(M.shape[0]):\n",
    "    TSS += (y[i] - np.mean(y))**2\n",
    "print(f'TSS from the analytical solution: {TSS}')\n",
    "R2 = 1 - RSS/TSS\n",
    "print(f'R2 from the analytical solution: {R2}')"
   ]
  },
  {
   "cell_type": "markdown",
   "metadata": {},
   "source": [
    "How much variance in <strong>y</strong> can we explain using this simple model?"
   ]
  },
  {
   "cell_type": "code",
   "execution_count": 46,
   "metadata": {},
   "outputs": [
    {
     "data": {
      "image/png": "[encoded data removed]",
      "text/plain": [
       "<Figure size 1000x600 with 1 Axes>"
      ]
     },
     "metadata": {},
     "output_type": "display_data"
    },
    {
     "name": "stdout",
     "output_type": "stream",
     "text": [
      "MSE: 0.4811605108615973\n",
      "Residuals: [-0.71493747  0.08987803 -0.46544807  0.50699207  0.08480331 -0.12130691\n",
      "  0.83157549 -0.72450452 -0.63311707  1.25063715  0.05091493 -0.33856618\n",
      "  0.82926902  0.26362225  0.19355657 -0.0800965  -0.59353105 -0.50382455\n",
      " -0.66158103  0.57051168 -0.67883749 -0.47735446 -0.58518226 -0.09666582\n",
      "  0.24012825  0.70408495  0.51718421 -1.2205204   0.02524925  1.27403077\n",
      " -0.3854457  -0.13588467  1.03117198 -0.33495059 -0.17346817  0.1859623\n",
      "  0.74038953  1.53222178  0.14466837 -0.60877864 -0.69371335 -0.24845661\n",
      " -1.09773154  0.18380671  0.49189511 -0.93678507  0.61480288  0.42162548\n",
      "  0.02410312 -0.62095358 -0.03807103  0.71917037 -0.97525248 -0.6968906\n",
      "  0.55632739  0.71691111 -2.02128283 -0.55921693  0.85502752  0.45946178\n",
      " -0.69053633 -0.47574074 -0.11842     0.37974851 -0.55511872 -0.34967785\n",
      "  0.01318517 -0.35465634  0.5857918   0.72640085 -0.33608978  0.43180905\n",
      "  0.77424317 -0.1753301  -0.85404298 -1.1123228  -0.27458996  1.59473988\n",
      "  1.10487782  0.28529291 -0.41186056 -0.93179033 -0.14621707  0.75235525\n",
      "  0.14619237 -0.32434879  0.16020736 -0.24700419 -0.50000668  0.05316325\n",
      "  0.23426665 -0.3005106  -1.87564234  0.45303743 -0.22580118  0.47938104\n",
      " -0.7487583   0.8403812  -0.40826855 -0.72852771 -0.52162606 -0.06393609\n",
      "  1.96324579  0.51984431 -0.74921951 -0.82009801  0.79084118 -0.15138235\n",
      "  0.02410364 -0.81068281  0.85486521 -0.81537005  1.20900663  1.15448833\n",
      " -0.43105158  0.51657461  0.79087882  0.59433324  0.1766074   0.63239309\n",
      "  0.56325998 -0.35594239 -0.5104475  -1.17764646 -0.62562333 -0.34860972\n",
      "  0.53839645  0.00585837  0.28942561  0.74100792  0.37005981  1.14351684\n",
      " -0.07828024  0.18903782 -0.50194429  0.42205636  0.34531554  0.57759804\n",
      "  1.05167654  0.35921432 -0.48656338  1.12124811  0.83738714 -0.75227759\n",
      " -0.05907235  0.2455321  -0.16005246 -1.30575668 -0.23665654 -0.67925129\n",
      "  1.02354531 -0.73750079  1.1848122  -0.65301589  0.60303876 -0.16887133\n",
      " -1.57315525 -0.51913444  0.13932353 -0.52095177 -0.37841411 -0.18542202\n",
      "  0.35840604 -0.85670918  0.86910065 -0.23592456  0.13783762 -0.55368941\n",
      "  0.55609445 -0.88468493  0.0052337  -0.18292122  0.94983326  0.04861663\n",
      " -0.17496249  0.09208399  1.02730193  0.0249034  -0.24114792 -0.19254496\n",
      " -0.94012171 -0.33509575 -0.43876748  0.34550217  0.8239158  -1.10764848\n",
      " -0.78443236  0.99135173 -0.17640839 -0.48231603  1.24631856  0.64794018\n",
      " -0.00264562 -0.31873499 -0.89796333 -0.61877554 -0.3470793  -0.79314185\n",
      " -0.00670682 -1.13202979  0.81319801 -0.38994349  0.41295688  0.31045745\n",
      "  1.28079109 -1.68089696  0.45826413 -0.13344074 -0.87535039 -1.24335812\n",
      "  0.85248373 -1.35837269 -1.02967768 -0.64313691 -0.45059488  0.00914388\n",
      "  0.31468053  0.96844375  1.04270542  0.51329843  0.32369098 -0.63326788\n",
      "  1.27526258  0.32139221 -0.00326469 -0.28876561 -0.02476335  0.03625263\n",
      "  0.54484544 -0.59749051  0.69321504 -0.06928479  1.30654549 -0.68821861\n",
      "  0.18732048 -0.68290557 -1.5596202   0.08572763  0.86049068  1.0668696\n",
      "  0.5200465   0.75030556 -0.18984237 -0.69863346  0.6042134   0.3004781\n",
      " -0.55343029 -0.41594471  0.30372561 -0.39119798  0.51535749 -0.41341329\n",
      " -1.16317399 -0.6882132   0.72359019  0.44825067  1.00587992 -0.54270079\n",
      " -0.34851677 -1.17336939 -0.25254538 -0.34804004  0.57351413  0.92084431\n",
      "  0.28162218 -0.74047819  0.13111674 -0.30294151  0.25552203 -0.03838532\n",
      "  0.12879298 -0.48422258  0.44429716  0.63701077 -1.43260214 -0.8346934\n",
      "  1.21682027 -0.68204863 -0.12257602  1.07075439  1.28680958 -0.04934376\n",
      "  1.17332931  1.25597389 -0.05106527  0.39692684 -0.26567022  0.93853411\n",
      "  0.01228204 -1.59985689  1.44403287  0.5739798  -0.11498578  0.27037781\n",
      " -0.34761572 -0.8798346   0.15824364 -0.86643281  0.28748262 -0.52967991\n",
      "  0.7375626  -0.79150342 -0.11361338  0.07034627  1.69847815 -0.15148254\n",
      " -1.06845525  0.30490776  0.33632791  0.03945577 -1.23058109  0.09659907\n",
      "  0.27295583 -0.66054115 -0.36179143 -0.16957365  0.28062404  0.21724032\n",
      " -0.6958801  -0.03003891 -0.90196169 -0.70225985 -0.48397818  0.4149762\n",
      "  0.50475803 -0.31411579 -0.33744307  0.16779326 -1.44061102  0.40775226\n",
      "  0.84699384  1.13085975 -0.27242376 -0.24187042 -0.09512088  0.12542904\n",
      "  0.73740792 -1.08330681  1.1920289  -0.66506536  0.58818776  1.03125834\n",
      "  0.18979592 -0.57116696  0.72086762  0.17770055 -0.49942939 -0.2150236\n",
      "  0.20526369 -0.09160502 -0.0894706  -0.19766049  0.19459003 -0.6201983\n",
      "  1.03352849 -0.95800207 -0.51460568  0.24002536  0.48588729  1.76633408\n",
      "  1.09069963  0.82934412  1.11165186 -1.38915822  1.31766016  0.56583775\n",
      " -0.273123   -0.19761743 -0.96641643 -0.22140493  0.05679737  0.03382711\n",
      " -0.51594584  0.33453214  0.14495206  0.47824285 -1.17085703  0.84839163\n",
      "  1.04628795 -1.2482811  -1.58911967  0.38037338 -1.48255117 -0.3391351\n",
      " -0.55187276  1.02444525 -0.4928976   1.42201177 -0.68768115 -0.31349206\n",
      "  0.29754722  0.12357305  0.2531491  -0.41071373  0.1869582   1.1327543\n",
      " -0.24538818  0.20350116  0.91746993  0.55523778 -0.15805515  0.07624939\n",
      "  0.25450243  0.30666655  1.21027104 -0.03418947  0.27422576 -0.41699844\n",
      " -0.19534536  0.08865394  0.66242289 -0.18808816  0.36352905 -0.11131344\n",
      " -0.43509077  0.0171707   0.39203441 -1.22538123 -0.19637644 -0.49854309\n",
      "  0.07573338  0.26063189  0.43739356 -0.81243134 -0.78870247  0.51741985\n",
      " -0.5525797  -0.81515701  0.6741078  -0.0870132   0.87068753 -0.73334276\n",
      " -0.58604278  0.14341756 -1.06485626 -0.7196991  -0.05978645 -0.19479803\n",
      "  0.03819006  0.13974444  0.10560044  0.04608363]\n",
      "Estimated y values (y_hat): [ 7.00234650e-01 -1.09040310e+00  3.21031802e-01  1.91729125e-01\n",
      " -3.07047649e-01 -5.93848560e-01 -1.01490580e+00 -4.31676699e-01\n",
      "  8.65890892e-02  7.97103974e-01 -7.14185021e-01 -7.39786966e-01\n",
      " -4.80774162e-01  1.62700680e-01 -6.36313786e-01  3.24820593e-01\n",
      "  7.73398422e-01  3.98322315e-01 -5.35744432e-02 -3.64701618e-01\n",
      " -4.12487000e-01 -8.60425598e-01 -5.06142230e-01  1.30126948e+00\n",
      "  1.73223342e-01 -5.72491441e-02 -7.13485861e-01  3.49708779e-01\n",
      " -2.99378974e-01  4.23484029e-01  8.53732840e-02 -1.07218193e+00\n",
      "  1.41868085e+00 -5.09918341e-01 -9.56770356e-01 -8.36261042e-01\n",
      "  7.23641047e-01  7.44935976e-02  1.15073471e+00 -1.97176251e-01\n",
      "  1.74719085e-02 -1.01149537e+00 -8.43923768e-02 -9.63818916e-01\n",
      "  8.94307388e-01 -3.49109604e-01 -1.23623221e-01 -5.53070403e-01\n",
      " -1.02462819e+00  4.89508660e-01  7.52536014e-02  2.26006383e-01\n",
      " -2.32814121e-01  7.25345439e-02 -1.68918496e-01 -1.02995487e+00\n",
      "  7.22416804e-01 -9.34219274e-01 -6.23274769e-01 -2.27709034e-01\n",
      " -4.91587587e-01  3.70238504e-01 -1.18044602e+00 -6.92792276e-01\n",
      " -4.97291734e-01  4.90631177e-01 -4.08593292e-02 -3.60499134e-01\n",
      " -4.83752501e-01 -3.90877338e-01 -1.01466163e+00  1.09707825e+00\n",
      " -1.27407361e-01 -3.58226541e-01 -1.67686447e-02 -3.16256679e-01\n",
      "  5.06342710e-01 -9.73846759e-01  1.90525265e-01 -7.92906856e-01\n",
      "  2.93386980e-01 -3.80047041e-01 -1.15264895e+00 -1.74868000e-03\n",
      " -1.27643090e+00  1.79932522e-01 -1.42015935e+00  1.17884985e-02\n",
      " -9.28572799e-01 -5.86719891e-01 -9.36450778e-01  4.54435282e-01\n",
      "  5.24890934e-01 -1.18116425e+00 -5.80153715e-01 -3.51399058e-01\n",
      "  7.21084143e-01  8.05248213e-01 -3.71743654e-01 -1.68226597e-01\n",
      "  2.08582297e-01 -5.86362652e-01 -1.92754310e-02  7.51061133e-02\n",
      "  8.12134264e-03 -4.65796671e-01 -1.02605687e+00  4.58801148e-02\n",
      "  1.01187253e+00 -1.12014197e-01 -1.47922126e+00 -3.92696557e-01\n",
      "  8.56838405e-03  7.24625302e-01  1.80428274e+00  4.80487527e-01\n",
      "  8.02865216e-01  1.07723887e+00  1.71887461e-01 -1.14999716e-02\n",
      "  5.76331333e-02  6.26609176e-01  8.71913709e-01  2.93863495e-01\n",
      "  2.21780149e-01  4.63620364e-01 -1.22760923e+00 -5.65357698e-01\n",
      " -7.71096863e-01  7.61936697e-01  1.21071287e+00 -1.06742023e+00\n",
      " -5.07161776e-01 -1.08579213e+00 -1.35383106e-01  1.13277364e+00\n",
      " -1.21612716e+00  1.08100272e+00  1.33331956e+00  1.31235779e+00\n",
      "  4.38061636e-02  1.01729243e+00  2.37503072e-01 -4.42817670e-01\n",
      "  3.42710487e-01  1.14067041e+00  4.95575978e-01  9.92712920e-01\n",
      " -4.91470283e-01  3.40264841e-01  7.38826216e-01 -9.43967905e-02\n",
      "  6.29444702e-01 -3.99394563e-01 -2.10596796e-02  6.08165609e-01\n",
      " -7.59371036e-02 -3.64648529e-01 -8.67450353e-01  1.07698816e+00\n",
      " -9.07480566e-01  1.02682801e+00 -1.00710603e-01  5.82579452e-01\n",
      " -6.66086977e-02 -9.72142048e-01 -1.20321943e+00  1.43400943e+00\n",
      "  9.46850162e-01  8.82953463e-01 -1.36895645e+00 -8.30575205e-01\n",
      "  9.03337684e-01 -7.11886723e-01  1.60259678e-01 -4.18099102e-01\n",
      "  7.35309740e-02  9.20273355e-01 -6.81549082e-01  1.77842146e-01\n",
      "  3.54679694e-01 -8.08114122e-01  2.55437174e-01  8.08207597e-02\n",
      "  6.40114775e-01  4.44378392e-01  5.88130709e-01 -1.10982531e+00\n",
      "  3.19921240e-02 -4.66323667e-01  5.67938350e-01 -3.12416663e-01\n",
      " -7.90337929e-01 -1.49964923e-01  4.01230602e-02  2.27903709e-01\n",
      " -6.92359815e-01  4.93069434e-01 -1.24738104e-01  3.26074897e-01\n",
      " -7.37101406e-01 -1.07755003e+00  1.56050852e-01  5.95805268e-01\n",
      "  3.38895628e-01  9.91684176e-01  1.10743605e-01  7.80276552e-01\n",
      "  9.12532954e-01  2.68775731e-01 -3.48332724e-01  2.92990889e-01\n",
      "  3.20991859e-03 -6.94643150e-01 -6.79643648e-01  1.42894401e+00\n",
      "  9.28837169e-01  8.97698535e-01 -2.40213470e-01 -8.69754936e-02\n",
      " -1.28530202e+00 -1.33772975e-01  2.01404999e-02 -3.49066370e-01\n",
      " -9.71317698e-01  1.01342949e+00 -9.49819039e-01 -6.08723307e-01\n",
      " -4.42806148e-01 -6.88404163e-01  1.87104983e-01  9.34960072e-02\n",
      "  7.96570120e-02 -1.17736278e-01  1.03025453e+00  3.17976431e-01\n",
      "  4.55324360e-01 -1.12516675e+00  4.99769130e-01  3.58246937e-01\n",
      "  1.07369754e+00 -4.27753388e-01 -8.62568092e-01 -6.65089288e-01\n",
      " -1.51947774e-01 -6.52435902e-01 -4.08180749e-01 -8.95892656e-01\n",
      "  1.06950555e+00  1.20666128e+00  1.44158422e+00  1.59207426e+00\n",
      "  3.70190443e-01  6.60539035e-01  1.32415094e+00 -4.37010792e-01\n",
      "  1.50882965e+00 -6.13480428e-01 -4.70409472e-01 -1.51439320e-01\n",
      " -1.21494814e+00 -2.89287357e-01  1.44828431e+00 -1.38954421e+00\n",
      " -3.74153067e-01 -2.73018226e-01 -1.52078218e+00 -1.78729745e-01\n",
      "  1.19553720e+00 -8.06483613e-01  5.18042824e-01  1.58207476e-01\n",
      " -5.68882606e-02  5.15707510e-01  3.15334951e-01  8.06238903e-02\n",
      "  4.80694528e-01 -4.61161251e-01 -5.27722722e-01 -4.49861270e-01\n",
      "  1.77221000e-01 -7.04725748e-01 -1.63295831e-01 -8.81536335e-01\n",
      "  1.01219184e-01  6.52020680e-01 -9.29425042e-01 -7.11854275e-02\n",
      " -9.47950390e-01  5.08532399e-01  8.89077854e-01  6.69537904e-01\n",
      " -7.68797185e-01  3.50515310e-01 -9.12336262e-01  9.02298131e-03\n",
      " -9.77169880e-01 -7.04831472e-01 -5.87555035e-01 -3.67074398e-01\n",
      "  8.56181429e-01 -3.38735112e-01  7.08563803e-01  1.01751528e+00\n",
      " -3.90103720e-01 -2.13446605e-01 -3.34181538e-01 -4.72123198e-02\n",
      " -8.30970507e-01 -1.70900695e-01  6.71081766e-01  2.64867134e-01\n",
      " -3.78458066e-01  8.01494478e-01  2.95203230e-01 -5.45581823e-01\n",
      "  5.99695989e-01  2.73939337e-01  1.36380774e-01  5.34189917e-01\n",
      "  5.11089852e-01  1.71229334e+00  1.64966781e+00  8.28541507e-01\n",
      "  7.51731013e-01  8.31238141e-01  6.33133435e-02  9.33039645e-01\n",
      "  4.78999977e-01 -6.29996604e-01  3.44638481e-01 -5.22937977e-01\n",
      "  1.80131106e+00  3.95795099e-01 -9.44318234e-01 -8.53555858e-01\n",
      "  1.25844783e+00  2.90323263e-01 -3.89536944e-01 -7.60328009e-02\n",
      "  2.40246886e-01  4.06829543e-01  1.45727599e-01  6.35530157e-02\n",
      " -9.99745011e-02 -3.48059508e-01  3.29070426e-01 -6.16873982e-01\n",
      " -2.58880544e-01 -7.40292563e-01  1.26813157e+00 -8.54749965e-01\n",
      " -1.16917241e+00  6.06989751e-02  5.21301508e-01 -2.37093187e-01\n",
      " -7.58317653e-01  6.53266009e-01 -1.29184218e+00  2.94378395e-01\n",
      "  5.80872478e-01 -4.41935226e-01  1.07877407e+00  1.68120271e-01\n",
      "  1.07456383e-01  1.32883436e-01  1.32207052e+00  1.36330706e+00\n",
      "  5.88515940e-01  4.14243643e-01 -1.21297859e+00  5.48151969e-01\n",
      " -5.36464617e-01 -1.28722080e-01 -3.02339679e-01  3.63163143e-01\n",
      "  7.67013848e-01  2.26498583e-01  1.58315711e-01 -2.06241065e-01\n",
      "  2.90253652e-01 -1.00472943e+00  1.22139279e+00 -4.92762480e-01\n",
      " -5.26480391e-01 -1.57096570e-01 -5.46541510e-01 -7.88147312e-01\n",
      "  1.41153168e-01 -9.98345308e-01  1.32213950e+00 -1.27975427e+00\n",
      " -6.95906313e-01 -6.67639417e-01  1.38084314e+00  2.40476856e-01\n",
      " -1.17021996e+00  3.91449266e-01  2.48219696e-01  4.80738389e-01\n",
      "  4.54664631e-01 -8.43290248e-01 -4.86923686e-02  1.28707748e+00\n",
      "  6.16957209e-01  1.70576157e+00 -1.31366487e+00  2.59610826e-01\n",
      "  6.73553678e-01  2.85783611e-01  7.52123359e-02 -2.11848350e-02\n",
      "  1.04861615e+00 -3.96300508e-01  1.60961043e-01  2.66467433e-01\n",
      "  9.68225397e-01 -3.45707518e-02 -6.87406530e-01 -9.30036390e-01\n",
      " -1.55292920e-01  5.15917377e-01  6.11553956e-01  1.94477968e-02\n",
      "  2.55145838e-01 -5.19151324e-01  1.35765172e-01 -2.89138827e-01\n",
      "  1.37363333e+00 -6.67056308e-01 -4.70307292e-01 -3.83924425e-01\n",
      "  8.56709568e-01 -1.18285667e+00 -2.72923794e-01 -4.23510776e-01\n",
      " -1.29096496e+00  5.30321546e-01 -6.62546113e-01 -4.00902820e-01\n",
      "  7.74719592e-01 -1.28009292e+00]\n",
      "RSS: 212.672945800826\n",
      "TSS: 441.0000000000005\n",
      "R^2: 0.5177484222203498\n"
     ]
    }
   ],
   "source": [
    "plt.figure(figsize=(10, 6))\n",
    "plt.scatter(yhat_ana, res_ana)\n",
    "plt.axhline(y=0, color='r', linestyle='--')\n",
    "plt.xlabel('Estimated y values (y_hat)')\n",
    "plt.ylabel('Residuals')\n",
    "plt.title('Residuals vs Estimated y values')\n",
    "plt.show()\n",
    "\n",
    "print(\"MSE:\", mse_ana)\n",
    "print(\"Residuals:\", res_ana)\n",
    "print(\"Estimated y values (y_hat):\", yhat_ana)\n",
    "print(\"RSS:\", RSS)\n",
    "print(\"TSS:\", TSS)\n",
    "print(\"R^2:\", R2)"
   ]
  }
 ],
 "metadata": {
  "file_extension": ".py",
  "kernelspec": {
   "display_name": "CDA",
   "language": "python",
   "name": "python3"
  },
  "language_info": {
   "codemirror_mode": {
    "name": "ipython",
    "version": 3
   },
   "file_extension": ".py",
   "mimetype": "text/x-python",
   "name": "python",
   "nbconvert_exporter": "python",
   "pygments_lexer": "ipython3",
   "version": "3.11.8"
  },
  "mimetype": "text/x-python",
  "name": "python",
  "npconvert_exporter": "python",
  "pygments_lexer": "ipython3",
  "version": 3
 },
 "nbformat": 4,
 "nbformat_minor": 2
}
